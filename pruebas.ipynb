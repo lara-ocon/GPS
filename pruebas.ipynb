{
 "cells": [
  {
   "cell_type": "code",
   "execution_count": 8,
   "metadata": {},
   "outputs": [
    {
     "name": "stdout",
     "output_type": "stream",
     "text": [
      "Está\n",
      "2\n",
      "3\n",
      "4\n",
      "5\n"
     ]
    }
   ],
   "source": [
    "dict = {'a': 2, 'b': 3, 'c': 4, 1: 5}\n",
    "if 'a' in dict:\n",
    "    print(\"Está\")\n",
    "for a in dict:\n",
    "    print(dict[a])"
   ]
  },
  {
   "cell_type": "code",
   "execution_count": 9,
   "metadata": {},
   "outputs": [],
   "source": [
    "import heapq"
   ]
  },
  {
   "cell_type": "code",
   "execution_count": 25,
   "metadata": {},
   "outputs": [],
   "source": [
    "def heapsort(iterable):\n",
    "    h = []\n",
    "    for value in iterable:\n",
    "        heapq.heappush(h, value)\n",
    "    return [heapq.heappop(i) for i in range(len(h))]"
   ]
  },
  {
   "cell_type": "code",
   "execution_count": 26,
   "metadata": {},
   "outputs": [
    {
     "ename": "TypeError",
     "evalue": "heap argument must be a list",
     "output_type": "error",
     "traceback": [
      "\u001b[0;31m---------------------------------------------------------------------------\u001b[0m",
      "\u001b[0;31mTypeError\u001b[0m                                 Traceback (most recent call last)",
      "\u001b[0;32m/var/folders/11/8n3x035j1rngnz1l98ysm7vm0000gn/T/ipykernel_70629/515544793.py\u001b[0m in \u001b[0;36m<module>\u001b[0;34m\u001b[0m\n\u001b[1;32m      1\u001b[0m \u001b[0mlist1\u001b[0m \u001b[0;34m=\u001b[0m \u001b[0;34m[\u001b[0m\u001b[0;34m(\u001b[0m\u001b[0;36m1\u001b[0m\u001b[0;34m,\u001b[0m\u001b[0;34m'A'\u001b[0m\u001b[0;34m)\u001b[0m\u001b[0;34m,\u001b[0m \u001b[0;34m(\u001b[0m\u001b[0;36m1\u001b[0m\u001b[0;34m,\u001b[0m\u001b[0;34m'B'\u001b[0m\u001b[0;34m)\u001b[0m\u001b[0;34m,\u001b[0m \u001b[0;34m(\u001b[0m\u001b[0;36m1000\u001b[0m\u001b[0;34m,\u001b[0m\u001b[0;34m'C'\u001b[0m\u001b[0;34m)\u001b[0m\u001b[0;34m,\u001b[0m\u001b[0;34m(\u001b[0m\u001b[0;36m3\u001b[0m\u001b[0;34m,\u001b[0m\u001b[0;34m'D'\u001b[0m\u001b[0;34m)\u001b[0m\u001b[0;34m,\u001b[0m \u001b[0;34m(\u001b[0m\u001b[0;36m15\u001b[0m\u001b[0;34m,\u001b[0m\u001b[0;34m'D'\u001b[0m\u001b[0;34m)\u001b[0m\u001b[0;34m,\u001b[0m\u001b[0;34m(\u001b[0m\u001b[0;36m2\u001b[0m\u001b[0;34m,\u001b[0m\u001b[0;34m'F'\u001b[0m\u001b[0;34m)\u001b[0m\u001b[0;34m,\u001b[0m\u001b[0;34m(\u001b[0m\u001b[0;36m4\u001b[0m\u001b[0;34m,\u001b[0m\u001b[0;34m'G'\u001b[0m\u001b[0;34m)\u001b[0m\u001b[0;34m,\u001b[0m\u001b[0;34m(\u001b[0m\u001b[0;36m4\u001b[0m\u001b[0;34m,\u001b[0m\u001b[0;34m'H'\u001b[0m\u001b[0;34m)\u001b[0m\u001b[0;34m]\u001b[0m\u001b[0;34m\u001b[0m\u001b[0;34m\u001b[0m\u001b[0m\n\u001b[1;32m      2\u001b[0m \u001b[0mlist\u001b[0m \u001b[0;34m=\u001b[0m \u001b[0;34m[\u001b[0m\u001b[0;36m2\u001b[0m\u001b[0;34m,\u001b[0m\u001b[0;36m4\u001b[0m\u001b[0;34m,\u001b[0m\u001b[0;36m5\u001b[0m\u001b[0;34m,\u001b[0m\u001b[0;36m61\u001b[0m\u001b[0;34m,\u001b[0m\u001b[0;36m1\u001b[0m\u001b[0;34m,\u001b[0m\u001b[0;36m9\u001b[0m\u001b[0;34m,\u001b[0m\u001b[0;36m4\u001b[0m\u001b[0;34m,\u001b[0m\u001b[0;36m5\u001b[0m\u001b[0;34m,\u001b[0m\u001b[0;36m8\u001b[0m\u001b[0;34m,\u001b[0m\u001b[0;36m3\u001b[0m\u001b[0;34m]\u001b[0m\u001b[0;34m\u001b[0m\u001b[0;34m\u001b[0m\u001b[0m\n\u001b[0;32m----> 3\u001b[0;31m \u001b[0mprint\u001b[0m\u001b[0;34m(\u001b[0m\u001b[0mheapsort\u001b[0m\u001b[0;34m(\u001b[0m\u001b[0mlist\u001b[0m\u001b[0;34m)\u001b[0m\u001b[0;34m)\u001b[0m\u001b[0;34m\u001b[0m\u001b[0;34m\u001b[0m\u001b[0m\n\u001b[0m\u001b[1;32m      4\u001b[0m \"\"\"\n\u001b[1;32m      5\u001b[0m \u001b[0;32mwhile\u001b[0m \u001b[0mlist\u001b[0m\u001b[0;34m:\u001b[0m\u001b[0;34m\u001b[0m\u001b[0;34m\u001b[0m\u001b[0m\n",
      "\u001b[0;32m/var/folders/11/8n3x035j1rngnz1l98ysm7vm0000gn/T/ipykernel_70629/49784400.py\u001b[0m in \u001b[0;36mheapsort\u001b[0;34m(iterable)\u001b[0m\n\u001b[1;32m      3\u001b[0m     \u001b[0;32mfor\u001b[0m \u001b[0mvalue\u001b[0m \u001b[0;32min\u001b[0m \u001b[0miterable\u001b[0m\u001b[0;34m:\u001b[0m\u001b[0;34m\u001b[0m\u001b[0;34m\u001b[0m\u001b[0m\n\u001b[1;32m      4\u001b[0m         \u001b[0mheapq\u001b[0m\u001b[0;34m.\u001b[0m\u001b[0mheappush\u001b[0m\u001b[0;34m(\u001b[0m\u001b[0mh\u001b[0m\u001b[0;34m,\u001b[0m \u001b[0mvalue\u001b[0m\u001b[0;34m)\u001b[0m\u001b[0;34m\u001b[0m\u001b[0;34m\u001b[0m\u001b[0m\n\u001b[0;32m----> 5\u001b[0;31m         \u001b[0;32mreturn\u001b[0m \u001b[0;34m[\u001b[0m\u001b[0mheapq\u001b[0m\u001b[0;34m.\u001b[0m\u001b[0mheappop\u001b[0m\u001b[0;34m(\u001b[0m\u001b[0mi\u001b[0m\u001b[0;34m)\u001b[0m \u001b[0;32mfor\u001b[0m \u001b[0mi\u001b[0m \u001b[0;32min\u001b[0m \u001b[0mrange\u001b[0m\u001b[0;34m(\u001b[0m\u001b[0mlen\u001b[0m\u001b[0;34m(\u001b[0m\u001b[0mh\u001b[0m\u001b[0;34m)\u001b[0m\u001b[0;34m)\u001b[0m\u001b[0;34m]\u001b[0m\u001b[0;34m\u001b[0m\u001b[0;34m\u001b[0m\u001b[0m\n\u001b[0m",
      "\u001b[0;32m/var/folders/11/8n3x035j1rngnz1l98ysm7vm0000gn/T/ipykernel_70629/49784400.py\u001b[0m in \u001b[0;36m<listcomp>\u001b[0;34m(.0)\u001b[0m\n\u001b[1;32m      3\u001b[0m     \u001b[0;32mfor\u001b[0m \u001b[0mvalue\u001b[0m \u001b[0;32min\u001b[0m \u001b[0miterable\u001b[0m\u001b[0;34m:\u001b[0m\u001b[0;34m\u001b[0m\u001b[0;34m\u001b[0m\u001b[0m\n\u001b[1;32m      4\u001b[0m         \u001b[0mheapq\u001b[0m\u001b[0;34m.\u001b[0m\u001b[0mheappush\u001b[0m\u001b[0;34m(\u001b[0m\u001b[0mh\u001b[0m\u001b[0;34m,\u001b[0m \u001b[0mvalue\u001b[0m\u001b[0;34m)\u001b[0m\u001b[0;34m\u001b[0m\u001b[0;34m\u001b[0m\u001b[0m\n\u001b[0;32m----> 5\u001b[0;31m         \u001b[0;32mreturn\u001b[0m \u001b[0;34m[\u001b[0m\u001b[0mheapq\u001b[0m\u001b[0;34m.\u001b[0m\u001b[0mheappop\u001b[0m\u001b[0;34m(\u001b[0m\u001b[0mi\u001b[0m\u001b[0;34m)\u001b[0m \u001b[0;32mfor\u001b[0m \u001b[0mi\u001b[0m \u001b[0;32min\u001b[0m \u001b[0mrange\u001b[0m\u001b[0;34m(\u001b[0m\u001b[0mlen\u001b[0m\u001b[0;34m(\u001b[0m\u001b[0mh\u001b[0m\u001b[0;34m)\u001b[0m\u001b[0;34m)\u001b[0m\u001b[0;34m]\u001b[0m\u001b[0;34m\u001b[0m\u001b[0;34m\u001b[0m\u001b[0m\n\u001b[0m",
      "\u001b[0;31mTypeError\u001b[0m: heap argument must be a list"
     ]
    }
   ],
   "source": [
    "list1 = [(1,'A'), (1,'B'), (1000,'C'),(3,'D'), (15,'D'),(2,'F'),(4,'G'),(4,'H')]\n",
    "list = [2,4,5,61,1,9,4,5,8,3]\n",
    "print(heapsort(list))\n",
    "\"\"\"\n",
    "while list:\n",
    "    a = heapq.heappop(list)\n",
    "    print(a)\n",
    "\"\"\"\n",
    "\n",
    "# heapq.heapify(list)\n",
    "# print(list)"
   ]
  },
  {
   "cell_type": "code",
   "execution_count": 2,
   "metadata": {},
   "outputs": [],
   "source": [
    "import grafo as gf\n",
    "import random\n",
    "import numpy as np\n",
    "import matplotlib.pyplot as plt\n",
    "import networkx as nx"
   ]
  },
  {
   "cell_type": "code",
   "execution_count": 3,
   "metadata": {},
   "outputs": [],
   "source": [
    "grafo = gf.Grafo()\n",
    "\n",
    "coords = [[0,1], [0,0], [0,-1], [1,-1], [2,-1], [-1,0]]\n",
    "aristas = {(1,2):5, (2,3):2, (2,4): 1, (4,5):1, (1,5):8, (1,6):3, (2,6):9, (3,6):7, (3,5):5, (4,1):6}\n",
    "\n",
    "for i in range(len(coords)):\n",
    "    grafo.agregar_vertice(gf.Vertice(i+1, coords[i]))\n",
    "\n",
    "for aristaa in aristas.keys():\n",
    "    for vertice in grafo.vertices.values():\n",
    "        if vertice.num == aristaa[0]:\n",
    "            # print(\"Encuentro origen\")\n",
    "            s = vertice\n",
    "        elif vertice.num == aristaa[1]:\n",
    "            # print(\"Encuentro destino\")\n",
    "            t = vertice\n",
    "    grafo.agregar_arista(s,t,{},aristas[aristaa])"
   ]
  },
  {
   "cell_type": "code",
   "execution_count": 4,
   "metadata": {},
   "outputs": [
    {
     "data": {
      "image/png": "[encoded data removed]",
      "text/plain": [
       "<Figure size 640x480 with 1 Axes>"
      ]
     },
     "metadata": {},
     "output_type": "display_data"
    }
   ],
   "source": [
    "G = nx.Graph()\n",
    "\n",
    "G.add_nodes_from([(v.num, {'coordenadas': v.coordenadas}) for v in list(grafo.vertices.values())])\n",
    "G.add_edges_from([(a.origen.num, a.destino.num, {'peso':a.peso}) for a in grafo.aristas])\n",
    "\n",
    "pos = nx.get_node_attributes(G, 'coordenadas')\n",
    "plt.figure()\n",
    "nx.draw(G, pos=pos, with_labels=True, node_size=10)\n",
    "plt.show()\n"
   ]
  },
  {
   "cell_type": "code",
   "execution_count": 5,
   "metadata": {},
   "outputs": [
    {
     "name": "stdout",
     "output_type": "stream",
     "text": [
      "Vamos a hacer lista de adyacencia del nodo 6\n",
      "EL vertice está\n",
      "tenemos arista\n",
      "tenemos arista\n",
      "tenemos arista\n",
      "Vamos a hacer lista de adyacencia del nodo 1\n",
      "EL vertice está\n",
      "tenemos arista\n",
      "tenemos arista\n",
      "tenemos arista\n",
      "tenemos arista\n",
      "Vamos a hacer lista de adyacencia del nodo 3\n",
      "EL vertice está\n",
      "tenemos arista\n",
      "tenemos arista\n",
      "tenemos arista\n",
      "Vamos a hacer lista de adyacencia del nodo 2\n",
      "EL vertice está\n",
      "tenemos arista\n",
      "tenemos arista\n",
      "tenemos arista\n",
      "tenemos arista\n",
      "Vamos a hacer lista de adyacencia del nodo 4\n",
      "EL vertice está\n",
      "tenemos arista\n",
      "tenemos arista\n",
      "tenemos arista\n",
      "Vamos a hacer lista de adyacencia del nodo 5\n",
      "EL vertice está\n",
      "tenemos arista\n",
      "tenemos arista\n",
      "tenemos arista\n"
     ]
    }
   ],
   "source": [
    "dict = grafo.dijkstra( gf.Vertice(6, [-1, 0]))\n"
   ]
  },
  {
   "cell_type": "code",
   "execution_count": 11,
   "metadata": {},
   "outputs": [
    {
     "name": "stdout",
     "output_type": "stream",
     "text": [
      "{1: <grafo.Vertice object at 0x7f82e6212430>, 2: <grafo.Vertice object at 0x7f82e40a4e50>, 3: <grafo.Vertice object at 0x7f82e6212430>, 4: <grafo.Vertice object at 0x7f82e40a4e50>, 5: <grafo.Vertice object at 0x7f82e43c59a0>, 6: None}\n",
      "Padre de 1 es 6\n",
      "Padre de 2 es 1\n",
      "Padre de 3 es 6\n",
      "Padre de 4 es 1\n",
      "Padre de 5 es 4\n",
      "Padre de 6 es 6\n",
      "\n",
      "\n",
      "\n",
      "\n",
      "\n",
      "\n",
      "\n",
      "\n",
      "\n",
      "\n",
      "\n",
      "\n",
      "\n",
      "\n",
      "\n",
      "\n",
      "\n",
      "\n",
      "\n",
      "\n"
     ]
    }
   ],
   "source": [
    "print(dict)\n",
    "for clave in dict.keys():\n",
    "    try:\n",
    "        print(f\"Padre de {clave} es {dict[clave].num}\")\n",
    "    except:\n",
    "        print(f\"Padre de {clave} es {clave}\")\n",
    "\n",
    "for arista in grafo.aristas:\n",
    "    print(f\"\")"
   ]
  },
  {
   "cell_type": "code",
   "execution_count": 7,
   "metadata": {},
   "outputs": [
    {
     "name": "stdout",
     "output_type": "stream",
     "text": [
      "{1: <grafo.Vertice object at 0x7f82e6212430>, 2: <grafo.Vertice object at 0x7f82e40a4e50>, 3: <grafo.Vertice object at 0x7f82e6212430>, 4: <grafo.Vertice object at 0x7f82e40a4e50>, 5: <grafo.Vertice object at 0x7f82e43c59a0>, 6: None}\n"
     ]
    }
   ],
   "source": [
    "print(dict)"
   ]
  },
  {
   "cell_type": "code",
   "execution_count": 8,
   "metadata": {},
   "outputs": [
    {
     "name": "stdout",
     "output_type": "stream",
     "text": [
      "YESSSS\n",
      "[[0, 1], [0, 0], [0, -1], [1, -1], [2, -1], [-1, 0]]\n",
      "[(1, 2), (2, 1), (2, 3), (3, 2), (2, 4), (4, 2), (4, 5), (5, 4), (1, 5), (5, 1), (1, 6), (6, 1), (2, 6), (6, 2), (3, 6), (6, 3), (3, 5), (5, 3), (4, 1), (1, 4)]\n"
     ]
    }
   ],
   "source": [
    "if ([0,1] and [0,0] in [vertice.coordenadas for vertice in grafo.vertices.values()]):\n",
    "    print('YESSSS')\n",
    "print([vertice.coordenadas for vertice in grafo.vertices.values()])\n",
    "print([(s.origen.num, s.destino.num) for s in grafo.aristas])"
   ]
  },
  {
   "cell_type": "code",
   "execution_count": null,
   "metadata": {},
   "outputs": [],
   "source": []
  }
 ],
 "metadata": {
  "kernelspec": {
   "display_name": "Python 3.9.13 ('base')",
   "language": "python",
   "name": "python3"
  },
  "language_info": {
   "codemirror_mode": {
    "name": "ipython",
    "version": 3
   },
   "file_extension": ".py",
   "mimetype": "text/x-python",
   "name": "python",
   "nbconvert_exporter": "python",
   "pygments_lexer": "ipython3",
   "version": "3.9.13"
  },
  "orig_nbformat": 4,
  "vscode": {
   "interpreter": {
    "hash": "e518e308cad670d7b1fcf9f087692433d6126550cb57a6b3caeb90934ca4b540"
   }
  }
 },
 "nbformat": 4,
 "nbformat_minor": 2
}
